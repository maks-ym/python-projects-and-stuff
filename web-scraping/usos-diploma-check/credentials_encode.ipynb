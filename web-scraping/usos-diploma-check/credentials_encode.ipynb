{
 "cells": [
  {
   "source": [
    "from os import makedirs, path\n",
    "\n",
    "\n",
    "LOGIN = \"mylogin23\"      # your login to encode\n",
    "PASSWORD = \"password\"   # your password to encode\n",
    "OUT_DIR = \"\"\n",
    "OUT_FILE = \"credentials_example.txt\"\n",
    "ENCODE_SHIFT = 5\n",
    "\n",
    "\n",
    "def shift_string(in_str, chr_shift=5):\n",
    "    \"\"\"\n",
    "    Simple encode-decode function\n",
    "    Shift must be known while decoding\n",
    "    \n",
    "    \"\"\"\n",
    "    new_str = \"\"\n",
    "    for cur_c in in_str:\n",
    "        new_str += chr(ord(cur_c)+chr_shift)\n",
    "    return new_str\n",
    "\n",
    "\n",
    "def create_dir_if_not_exists(dir_path):\n",
    "    if not path.isdir(dir_path):\n",
    "        makedirs(dir_path)\n",
    "\n",
    "\n",
    "def write_credentials(credentials_list, out_path, txt_file, encode_shift=5):\n",
    "    if out_path: create_dir_if_not_exists(out_path)\n",
    "    with open(path.join(out_path, txt_file), \"w\") as out_f:\n",
    "        for cur_cred in credentials_list:\n",
    "            out_f.write(shift_string(cur_cred, encode_shift) + '\\n')\n",
    "\n",
    "            \n",
    "def test_credentils_file(credentials_list, out_path, txt_file, encode_shift=5):\n",
    "    with open(path.join(out_path, txt_file), \"r\") as in_f:\n",
    "        for cur_cred, read_cred in zip(credentials_list, in_f):\n",
    "            decoded_str = shift_string(read_cred.strip('\\n'), -encode_shift)\n",
    "            assert cur_cred == decoded_str, f\"{cur_cred} != {decoded_str}\"\n",
    "    print(f\"Credentials are written successfully here: {path.join(out_path, txt_file)}\")\n",
    "\n",
    "\n",
    "args = ([LOGIN, PASSWORD], OUT_DIR, OUT_FILE, ENCODE_SHIFT)\n",
    "write_credentials(*args)\n",
    "test_credentils_file(*args)"
   ],
   "cell_type": "code",
   "outputs": [
    {
     "output_type": "stream",
     "name": "stdout",
     "text": "Credentials are written successfully here: credentials_example.txt\n"
    }
   ],
   "metadata": {},
   "execution_count": 1
  },
  {
   "cell_type": "code",
   "execution_count": null,
   "metadata": {},
   "outputs": [],
   "source": []
  }
 ],
 "metadata": {
  "kernelspec": {
   "display_name": "Python 3.7.3 64-bit",
   "language": "python",
   "name": "python37364bit7bbe1c1947a346e98f27ea0e5c4f6f71"
  },
  "language_info": {
   "codemirror_mode": {
    "name": "ipython",
    "version": 3
   },
   "file_extension": ".py",
   "mimetype": "text/x-python",
   "name": "python",
   "nbconvert_exporter": "python",
   "pygments_lexer": "ipython3",
   "version": "3.7.3-final"
  }
 },
 "nbformat": 4,
 "nbformat_minor": 2
}